{
 "cells": [
  {
   "cell_type": "code",
   "execution_count": 1,
   "metadata": {
    "collapsed": true
   },
   "outputs": [],
   "source": [
    "import os\n",
    "import pandas as pd\n",
    "%matplotlib inline"
   ]
  },
  {
   "cell_type": "code",
   "execution_count": 3,
   "metadata": {
    "collapsed": true
   },
   "outputs": [],
   "source": [
    "direct ='data/acs_1_yr_vet_status_est/'\n",
    "ext = '.csv'\n",
    "\n",
    "acs_dict = {\n",
    "    \"2005\" : \"data/acs_1_yr_vet_status_est/vets_2005_acs.csv\",\n",
    "    \"2006\" : \"data/acs_1_yr_vet_status_est/vets_2006_acs.csv\",\n",
    "    \"2007\" : \"data/acs_1_yr_vet_status_est/vets_2007_acs.csv\",\n",
    "    \"2008\" : \"data/acs_1_yr_vet_status_est/vets_2008_acs.csv\",\n",
    "    \"2009\" : \"data/acs_1_yr_vet_status_est/vets_2009_acs.csv\",\n",
    "    \"2010\" : \"data/acs_1_yr_vet_status_est/vets_2010_acs.csv\",\n",
    "    \"2011\" : \"data/acs_1_yr_vet_status_est/vets_2011_acs.csv\",\n",
    "    \"2012\" : \"data/acs_1_yr_vet_status_est/vets_2012_acs.csv\",\n",
    "    \"2013\" : \"data/acs_1_yr_vet_status_est/vets_2013_acs.csv\",\n",
    "    \"2014\" : \"data/acs_1_yr_vet_status_est/vets_2014_acs.csv\",\n",
    "    \"2015\" : \"data/acs_1_yr_vet_status_est/vets_2015_acs.csv\",\n",
    "    \"2016\" : \"data/acs_1_yr_vet_status_est/vets_2016_acs.csv\",\n",
    "}"
   ]
  },
  {
   "cell_type": "code",
   "execution_count": null,
   "metadata": {},
   "outputs": [],
   "source": []
  },
  {
   "cell_type": "code",
   "execution_count": 4,
   "metadata": {},
   "outputs": [
    {
     "name": "stdout",
     "output_type": "stream",
     "text": [
      "2005 data/acs_1_yr_vet_status_est/vets_2005_acs.csv\n",
      "2006 data/acs_1_yr_vet_status_est/vets_2006_acs.csv\n",
      "2007 data/acs_1_yr_vet_status_est/vets_2007_acs.csv\n",
      "2008 data/acs_1_yr_vet_status_est/vets_2008_acs.csv\n",
      "2009 data/acs_1_yr_vet_status_est/vets_2009_acs.csv\n",
      "2010 data/acs_1_yr_vet_status_est/vets_2010_acs.csv\n",
      "2011 data/acs_1_yr_vet_status_est/vets_2011_acs.csv\n",
      "2012 data/acs_1_yr_vet_status_est/vets_2012_acs.csv\n",
      "2013 data/acs_1_yr_vet_status_est/vets_2013_acs.csv\n",
      "2014 data/acs_1_yr_vet_status_est/vets_2014_acs.csv\n",
      "2015 data/acs_1_yr_vet_status_est/vets_2015_acs.csv\n",
      "2016 data/acs_1_yr_vet_status_est/vets_2016_acs.csv\n"
     ]
    }
   ],
   "source": [
    "for i in acs_dict:\n",
    "    print(i, acs_dict[i])"
   ]
  },
  {
   "cell_type": "code",
   "execution_count": null,
   "metadata": {
    "collapsed": true
   },
   "outputs": [],
   "source": []
  }
 ],
 "metadata": {
  "kernelspec": {
   "display_name": "Python 3",
   "language": "python",
   "name": "python3"
  },
  "language_info": {
   "codemirror_mode": {
    "name": "ipython",
    "version": 3
   },
   "file_extension": ".py",
   "mimetype": "text/x-python",
   "name": "python",
   "nbconvert_exporter": "python",
   "pygments_lexer": "ipython3",
   "version": "3.6.1"
  }
 },
 "nbformat": 4,
 "nbformat_minor": 2
}
