{
 "cells": [
  {
   "cell_type": "code",
   "execution_count": 1,
   "metadata": {},
   "outputs": [],
   "source": [
    "%matplotlib inline\n",
    "import pandas as pd"
   ]
  },
  {
   "cell_type": "code",
   "execution_count": null,
   "metadata": {},
   "outputs": [],
   "source": [
    "#National breakdown between paid vs volunteer departments, from NFPA\n",
    "# /Users/reporter/Documents/data/fireDepartments/analysisRdy/cleaned_fire_dept_breakdown.csv\n",
    "#National breakdown between paid vs volunteer firefighters, from NFPA\n",
    "# /Users/reporter/Documents/data/fireDepartments/analysisRdy/num_firefighters_national.csv\n",
    "# U.S. Fire Admin registry for Florida\n",
    "# /Users/reporter/Documents/data/fireDepartments/analysisRdy/usfa-registry-FL.csv\n",
    "# U.S. Fire admin registry for entire country, include states and a bunch of other numbers\n",
    "# /Users/reporter/Documents/data/fireDepartments/analysisRdy/usfa-registry-national.csv"
   ]
  }
 ],
 "metadata": {
  "kernelspec": {
   "display_name": "Python 3",
   "language": "python",
   "name": "python3"
  },
  "language_info": {
   "codemirror_mode": {
    "name": "ipython",
    "version": 3
   },
   "file_extension": ".py",
   "mimetype": "text/x-python",
   "name": "python",
   "nbconvert_exporter": "python",
   "pygments_lexer": "ipython3",
   "version": "3.6.1"
  }
 },
 "nbformat": 4,
 "nbformat_minor": 2
}
